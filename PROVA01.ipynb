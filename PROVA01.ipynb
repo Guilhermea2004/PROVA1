{
 "cells": [
  {
   "cell_type": "code",
   "execution_count": 4,
   "id": "090faea5-4f61-4978-9175-1d1a2c1f2546",
   "metadata": {},
   "outputs": [
    {
     "name": "stdin",
     "output_type": "stream",
     "text": [
      "Digite o primeiro número:  5\n",
      "Digite o segundo número:  3\n",
      "Digite o terceiro número:  10\n"
     ]
    },
    {
     "name": "stdout",
     "output_type": "stream",
     "text": [
      "A média aritmética dos dois maiores números é: 7.5\n"
     ]
    }
   ],
   "source": [
    "# Solicita ao usuário três números inteiros positivos\n",
    "n1 = int(input(\"Digite o primeiro número: \"))\n",
    "n2 = int(input(\"Digite o segundo número: \"))\n",
    "n3 = int(input(\"Digite o terceiro número: \"))\n",
    "\n",
    "# Coloca os números em uma lista\n",
    "numeros = [n1, n2, n3]\n",
    "\n",
    "# Ordena a lista em ordem crescente\n",
    "numeros.sort()\n",
    "\n",
    "# Calcula a média aritmética dos dois maiores números\n",
    "media = (numeros[1] + numeros[2]) / 2\n",
    "\n",
    "# Exibe o resultado\n",
    "print(f\"A média aritmética dos dois maiores números é: {media}\")\n",
    "\n"
   ]
  },
  {
   "cell_type": "code",
   "execution_count": null,
   "id": "dc43db55-70e9-4783-8ee3-74c2cc6435a5",
   "metadata": {},
   "outputs": [],
   "source": []
  }
 ],
 "metadata": {
  "kernelspec": {
   "display_name": "Python [conda env:base] *",
   "language": "python",
   "name": "conda-base-py"
  },
  "language_info": {
   "codemirror_mode": {
    "name": "ipython",
    "version": 3
   },
   "file_extension": ".py",
   "mimetype": "text/x-python",
   "name": "python",
   "nbconvert_exporter": "python",
   "pygments_lexer": "ipython3",
   "version": "3.12.7"
  }
 },
 "nbformat": 4,
 "nbformat_minor": 5
}
